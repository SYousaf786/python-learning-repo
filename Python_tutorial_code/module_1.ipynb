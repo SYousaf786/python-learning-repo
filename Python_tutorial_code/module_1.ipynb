{
 "cells": [
  {
   "cell_type": "code",
   "execution_count": 1,
   "metadata": {},
   "outputs": [
    {
     "name": "stdout",
     "output_type": "stream",
     "text": [
      "13\n"
     ]
    }
   ],
   "source": [
    "x = 4\n",
    "y = 9\n",
    "z = x + y\n",
    "\n",
    "print(z)"
   ]
  },
  {
   "cell_type": "code",
   "execution_count": 2,
   "metadata": {},
   "outputs": [
    {
     "name": "stdout",
     "output_type": "stream",
     "text": [
      "8\n"
     ]
    }
   ],
   "source": [
    "i = 1\n",
    "j = 7\n",
    "\n",
    "print (i + j)"
   ]
  },
  {
   "cell_type": "code",
   "execution_count": 4,
   "metadata": {},
   "outputs": [
    {
     "name": "stdout",
     "output_type": "stream",
     "text": [
      "<class 'str'>\n",
      "Saimawalking\n",
      "My name is Saima, and I like walking.\n"
     ]
    }
   ],
   "source": [
    "name = 'Saima' \n",
    "print(type(name))\n",
    "hobby = 'walking'\n",
    "long_string = name + hobby # Notice this variable is names using snake case\n",
    "print(long_string) # As we can see, addition of strings concats those strings\n",
    "# The below is an 'f string' which allows us to insert variables INSIDE a string\n",
    "phrase = f'My name is {name}, and I like {hobby}.' \n",
    "# String behaviour and f strings can be useful when we want to join up variables \n",
    "# of strings, really useful when making dynamic titles for visualisations\n",
    "print(phrase)"
   ]
  },
  {
   "cell_type": "code",
   "execution_count": null,
   "metadata": {},
   "outputs": [],
   "source": []
  },
  {
   "cell_type": "code",
   "execution_count": null,
   "metadata": {},
   "outputs": [],
   "source": []
  }
 ],
 "metadata": {
  "kernelspec": {
   "display_name": "Python 3",
   "language": "python",
   "name": "python3"
  },
  "language_info": {
   "codemirror_mode": {
    "name": "ipython",
    "version": 3
   },
   "file_extension": ".py",
   "mimetype": "text/x-python",
   "name": "python",
   "nbconvert_exporter": "python",
   "pygments_lexer": "ipython3",
   "version": "3.10.13"
  }
 },
 "nbformat": 4,
 "nbformat_minor": 2
}
