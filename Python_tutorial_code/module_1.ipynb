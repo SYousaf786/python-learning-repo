{
 "cells": [
  {
   "cell_type": "code",
   "execution_count": 17,
   "metadata": {},
   "outputs": [
    {
     "name": "stdout",
     "output_type": "stream",
     "text": [
      "13\n"
     ]
    }
   ],
   "source": [
    "x = 4\n",
    "y = 9\n",
    "z = x + y\n",
    "\n",
    "print(z)"
   ]
  },
  {
   "cell_type": "code",
   "execution_count": 18,
   "metadata": {},
   "outputs": [
    {
     "name": "stdout",
     "output_type": "stream",
     "text": [
      "8\n"
     ]
    }
   ],
   "source": [
    "i = 1\n",
    "j = 7\n",
    "\n",
    "print (i + j)"
   ]
  },
  {
   "cell_type": "code",
   "execution_count": 19,
   "metadata": {},
   "outputs": [
    {
     "name": "stdout",
     "output_type": "stream",
     "text": [
      "<class 'str'>\n",
      "Saimawalking\n",
      "My name is Saima, and I like walking.\n",
      "y name is\n",
      "heres_a_file\n"
     ]
    }
   ],
   "source": [
    "name = 'Saima' \n",
    "print(type(name))\n",
    "hobby = 'walking'\n",
    "long_string = name + hobby # Notice this variable is names using snake case\n",
    "print(long_string) # As we can see, addition of strings concats those strings\n",
    "# The below is an 'f string' which allows us to insert variables INSIDE a string\n",
    "phrase = f'My name is {name}, and I like {hobby}.' \n",
    "# String behaviour and f strings can be useful when we want to join up variables \n",
    "# of strings, really useful when making dynamic titles for visualisations\n",
    "print(phrase)\n",
    "\n",
    "string_slice = phrase[1:10]\n",
    "print(string_slice)\n",
    "filename = 'heres_a_file.csv'\n",
    "shortened_name = filename[:-4] \n",
    "print(shortened_name)"
   ]
  },
  {
   "cell_type": "code",
   "execution_count": 22,
   "metadata": {},
   "outputs": [
    {
     "name": "stdout",
     "output_type": "stream",
     "text": [
      "dog\n",
      "cat\n",
      "racoon\n"
     ]
    }
   ],
   "source": [
    "slice_this_phrase = 'dog cat racoon'\n",
    "\n",
    "animalname1 = slice_this_phrase[0:3]\n",
    "animalname2 = slice_this_phrase [4:7]\n",
    "animalname3 = slice_this_phrase [8:]\n",
    "print(animalname1)\n",
    "print(animalname2)\n",
    "print(animalname3)\n"
   ]
  },
  {
   "cell_type": "code",
   "execution_count": 23,
   "metadata": {},
   "outputs": [
    {
     "name": "stdout",
     "output_type": "stream",
     "text": [
      "<class 'list'>\n",
      "['red', 'blue', 'green']\n",
      "['red', 'blue', 'green', 'purple']\n",
      "['red', 'blue', 'green', 'purple', ['turquoise', 'teal']]\n",
      "['red', 'blue', 'green', 'purple', ['turquoise', 'teal'], 'turquoise', 'teal']\n",
      "['purple', ['turquoise', 'teal'], 'turquoise', 'teal']\n",
      "['red', 'blue', 'green', 'purple', ['turquoise', 'teal'], 'turquoise']\n"
     ]
    }
   ],
   "source": [
    "list_1 = [] \n",
    "print(type(list_1))\n",
    "\n",
    "colours_list = ['red', 'blue', 'green']\n",
    "print(colours_list)\n",
    "\n",
    "# The append method adds whatever is being appended to a list as one item in a list\n",
    "colours_list.append('purple') \n",
    "print(colours_list)\n",
    "\n",
    "extra_colours = ['turquoise', 'teal']\n",
    "colours_list.append(extra_colours)\n",
    "# You can see here it's appended the whole list extra_colours as one item in the list\n",
    "print(colours_list) \n",
    "\n",
    "# Instead, we can extend a to have each element of a list as a new element in another list with the .extend() method\n",
    "colours_list.extend(extra_colours)\n",
    "print(colours_list)\n",
    "\n",
    "# We can also access elements in a list the same way we can strings\n",
    "print(colours_list[3:7]) \n",
    "\n",
    "# We can remove list elements using.remove\n",
    "colours_list.remove('teal')\n",
    "print(colours_list)"
   ]
  },
  {
   "cell_type": "code",
   "execution_count": 24,
   "metadata": {},
   "outputs": [
    {
     "name": "stdout",
     "output_type": "stream",
     "text": [
      "[1, 2, 3, 4, 5, 6]\n",
      "[6, 5, 4, 3, 2, 1]\n",
      "[2, 3, 3, 4, 5]\n",
      "['amber', 'blue', 'green', 'red']\n"
     ]
    }
   ],
   "source": [
    "numbers_list = [2,3,4,5,1,6]\n",
    "# we can sort lists too, here using a method\n",
    "numbers_list.sort() \n",
    "print(numbers_list) \n",
    "numbers_list.sort(reverse=True)\n",
    "print(numbers_list) \n",
    "\n",
    "# Here we sort a list using a function and returning it to a new variable\n",
    "sorted_list = sorted([3,2,3,4,5]) \n",
    "print(sorted_list)\n",
    "\n",
    "colours_list = ['red', 'blue', 'green', 'amber']\n",
    "sorted_colours = sorted(colours_list, key=str.lower)\n",
    "print(sorted_colours)"
   ]
  },
  {
   "cell_type": "code",
   "execution_count": 9,
   "metadata": {},
   "outputs": [
    {
     "name": "stdout",
     "output_type": "stream",
     "text": [
      "25\n",
      "{'name': 'Saima', 'age': 100, 'location': 'london'}\n"
     ]
    }
   ],
   "source": [
    "#Assignment\n",
    "\n",
    "x = 10\n",
    "y = 5\n",
    "z = y**2\n",
    "\n",
    "print(z)\n",
    "\n",
    "my_dictionary = dict({'name':'Saima', 'age': 100, 'location': 'london'})\n",
    "print(my_dictionary)\n"
   ]
  },
  {
   "cell_type": "code",
   "execution_count": 22,
   "metadata": {},
   "outputs": [
    {
     "name": "stdout",
     "output_type": "stream",
     "text": [
      "XXXXXXXXXXXX4444\n"
     ]
    }
   ],
   "source": [
    "C_Number = str('4444444444444444')\n",
    "C_Number1 = C_Number [12:]\n",
    "print(\"X\" * (len(C_Number)-4) + C_Number [-4:])\n"
   ]
  }
 ],
 "metadata": {
  "kernelspec": {
   "display_name": "Python 3",
   "language": "python",
   "name": "python3"
  },
  "language_info": {
   "codemirror_mode": {
    "name": "ipython",
    "version": 3
   },
   "file_extension": ".py",
   "mimetype": "text/x-python",
   "name": "python",
   "nbconvert_exporter": "python",
   "pygments_lexer": "ipython3",
   "version": "3.10.13"
  }
 },
 "nbformat": 4,
 "nbformat_minor": 2
}
