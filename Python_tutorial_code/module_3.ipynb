{
 "cells": [
  {
   "cell_type": "code",
   "execution_count": 7,
   "metadata": {},
   "outputs": [
    {
     "name": "stdout",
     "output_type": "stream",
     "text": [
      "{'key1': 1, 'key2': 2}\n"
     ]
    }
   ],
   "source": [
    "dict_1 = {'key1':1, 'key2':2}\n",
    "print(dict_1)"
   ]
  },
  {
   "cell_type": "code",
   "execution_count": 1,
   "metadata": {},
   "outputs": [
    {
     "name": "stdout",
     "output_type": "stream",
     "text": [
      "name \n"
     ]
    }
   ],
   "source": [
    "phrase = 'my name is slim shady'\n",
    "sub_string = phrase[3:8]\n",
    "print(sub_string)"
   ]
  },
  {
   "cell_type": "code",
   "execution_count": 6,
   "metadata": {},
   "outputs": [
    {
     "name": "stdout",
     "output_type": "stream",
     "text": [
      "dict_keys(['key 1', 'key 2', 'key 3'])\n"
     ]
    }
   ],
   "source": [
    "dict_2 = {'key 1': 1,\n",
    "        'key 2': 2,\n",
    "        'key 3': 3}\n",
    "print(dict_2.keys())"
   ]
  },
  {
   "cell_type": "code",
   "execution_count": 15,
   "metadata": {},
   "outputs": [
    {
     "name": "stdout",
     "output_type": "stream",
     "text": [
      "<bound method DataFrame.info of   ChildId  Age first contact Gender Birthday CP Plan?\n",
      "0     id1                  6      M      NaT        Y\n",
      "1     id2                 12      m      NaT        n\n",
      "2     id3                 11      F      NaT        N\n",
      "3     id4                  1             NaT       No\n",
      "4     id5                 19      F      NaT      Yes>\n"
     ]
    }
   ],
   "source": [
    "import pandas as pd\n",
    "df = pd.DataFrame({'ChildId':['id1', 'id2', 'id3', 'id4', 'id5'],\n",
    "                   'Age first contact':[6,12,11,1,19],\n",
    "                   'Gender':['M','m', 'F', '', 'F' ],\n",
    "                   'Birthday':['01/01/2002', '02/02/2003', pd.NA, '03/03/2023', '06/01/2012'],\n",
    "                   'CP Plan?':['Y', 'n', 'N', 'No', 'Yes'],})\n",
    "#df.head()\n",
    "\n",
    "df['Birthday'] = pd.to_datetime(df['Birthday'], format='%d/%m/%y', errors='coerce')\n",
    "\n",
    "print(df.info)\n"
   ]
  },
  {
   "cell_type": "code",
   "execution_count": 19,
   "metadata": {},
   "outputs": [
    {
     "data": {
      "text/plain": [
       "0   NaN\n",
       "1   NaN\n",
       "2   NaN\n",
       "3   NaN\n",
       "4   NaN\n",
       "Name: Age at End of Reporting Period, dtype: float64"
      ]
     },
     "execution_count": 19,
     "metadata": {},
     "output_type": "execute_result"
    }
   ],
   "source": [
    "df['Current Age'] = pd.to_datetime('today').normalize() - df['Birthday']\n",
    "df['Age at End of Reporting Period'] = pd.to_datetime('31/03/2024', dayfirst=True) - df['Birthday']\n",
    "\n",
    "df['Current Age'] = df['Current Age']/pd.Timedelta('365 days')\n",
    "df['Current Age'] = df['Current Age'].round().astype('int', errors='ignore')\n",
    "\n",
    "df['Age at End of Reporting Period'] = df['Age at End of Reporting Period']/pd.Timedelta('365 days')\n",
    "df['Age at End of Reporting Period'] = df['Age at End of Reporting Period'].round().astype('int', errors = 'ignore')\n",
    "df['Age at End of Reporting Period']\n",
    "\n",
    "\n"
   ]
  },
  {
   "cell_type": "code",
   "execution_count": null,
   "metadata": {},
   "outputs": [],
   "source": []
  },
  {
   "cell_type": "code",
   "execution_count": null,
   "metadata": {},
   "outputs": [],
   "source": []
  }
 ],
 "metadata": {
  "kernelspec": {
   "display_name": "Python 3",
   "language": "python",
   "name": "python3"
  },
  "language_info": {
   "codemirror_mode": {
    "name": "ipython",
    "version": 3
   },
   "file_extension": ".py",
   "mimetype": "text/x-python",
   "name": "python",
   "nbconvert_exporter": "python",
   "pygments_lexer": "ipython3",
   "version": "3.10.13"
  }
 },
 "nbformat": 4,
 "nbformat_minor": 2
}
