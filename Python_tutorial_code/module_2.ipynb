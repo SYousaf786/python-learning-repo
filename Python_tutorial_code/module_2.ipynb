{
 "cells": [
  {
   "cell_type": "code",
   "execution_count": 77,
   "metadata": {},
   "outputs": [
    {
     "name": "stdout",
     "output_type": "stream",
     "text": [
      "[2, 3, 4, 5, 1, 6]\n",
      "[6, 5, 4, 3, 2, 1]\n"
     ]
    }
   ],
   "source": [
    "numbers_list = [2,3,4,5,1,6]\n",
    "print(numbers_list)\n",
    "\n",
    "numbers_list.sort(reverse=True) #True needs to be capital T\n",
    "print(numbers_list)\n",
    "\n"
   ]
  },
  {
   "cell_type": "code",
   "execution_count": 78,
   "metadata": {},
   "outputs": [
    {
     "ename": "SyntaxError",
     "evalue": "unterminated string literal (detected at line 7) (1599840639.py, line 7)",
     "output_type": "error",
     "traceback": [
      "\u001b[0;36m  Cell \u001b[0;32mIn[78], line 7\u001b[0;36m\u001b[0m\n\u001b[0;31m    'salary':10']\u001b[0m\n\u001b[0m               ^\u001b[0m\n\u001b[0;31mSyntaxError\u001b[0m\u001b[0;31m:\u001b[0m unterminated string literal (detected at line 7)\n"
     ]
    }
   ],
   "source": [
    "dict_1 = {'key1':'value1',\n",
    "          'key2: value2'} #stores strings\n",
    "\n",
    "staff_member = {'Name':'Saima'\n",
    "            'Job Title';'BIO',\n",
    "            'Hours':'too many',\n",
    "            'salary':10']\n",
    "\n",
    "colours_dict = [Will':'Teal',\n",
    "            'Andy':[Purple','Blue'],\n",
    "            'Annie':14,\n",
    "            'Naomi';[Monday':'Red']"
   ]
  },
  {
   "cell_type": "code",
   "execution_count": null,
   "metadata": {},
   "outputs": [
    {
     "name": "stdout",
     "output_type": "stream",
     "text": [
      "{'Mcdonalds': 'Burgers', 'Mother Hubbards': ['Fish and Chips', 'Fish Butty', 'Gravy'], 'Rajas': 'Pizzas', 'Morrisons': 'All day breakfast'}\n",
      "Burgers\n",
      "dict_keys(['Mcdonalds', 'Mother Hubbards', 'Rajas', 'Morrisons'])\n",
      "dict_values(['Burgers', ['Fish and Chips', 'Fish Butty', 'Gravy'], 'Pizzas', 'All day breakfast'])\n",
      "dict_items([('Mcdonalds', 'Burgers'), ('Mother Hubbards', ['Fish and Chips', 'Fish Butty', 'Gravy']), ('Rajas', 'Pizzas'), ('Morrisons', 'All day breakfast')])\n",
      "True\n",
      "dict_items([('Mcdonalds', 'Burgers'), ('Mother Hubbards', ['Fish and Chips', 'Fish Butty', 'Gravy']), ('Rajas', 'Pizzas'), ('Morrisons', 'All day breakfast'), ('Kebab Shop', 'Kebabs')])\n",
      "True\n"
     ]
    }
   ],
   "source": [
    "dict_2 = {'Mcdonalds': 'Burgers',\n",
    "          'Mother Hubbards':['Fish and Chips','Fish Butty','Gravy'],\n",
    "          'Rajas':'Pizzas',\n",
    "          'Morrisons':'All day breakfast'}\n",
    "print(dict_2)\n",
    "\n",
    "mcdo_food = dict_2['Mcdonalds']\n",
    "print(mcdo_food)\n",
    "\n",
    "print(dict_2.keys())\n",
    "print(dict_2.values())\n",
    "print(dict_2.items())\n",
    "\n",
    "print('Mother Hubbards' in dict_2)\n",
    "\n",
    "dict_2['Kebab Shop'] = 'Kebabs'\n",
    "\n",
    "print(dict_2.items())\n",
    "\n",
    "print('Mcdonalds' in dict_2)\n",
    "\n",
    "print(dict_2)"
   ]
  },
  {
   "cell_type": "code",
   "execution_count": null,
   "metadata": {},
   "outputs": [],
   "source": [
    "#Data Frames\n",
    "\n",
    "import pandas as pd\n",
    "filepath = 'https://raw.githubusercontent.com/data-to-insight/csc-validator-be-903/main/tests/fake_data/header.csv'\n",
    "\n",
    "header_fake = pd.read_csv(filepath)\n",
    "\n",
    "# to read in an excel file is pd.read.excel(<filepath>)\n"
   ]
  },
  {
   "cell_type": "code",
   "execution_count": null,
   "metadata": {},
   "outputs": [
    {
     "name": "stdout",
     "output_type": "stream",
     "text": [
      "    CHILD  SEX         DOB ETHNIC            UPN  MOTHER MC_DOB\n",
      "0  566910    2  27/03/2008   WROM  D051910639385     NaN    NaN\n",
      "1  384923    2  09/09/2011   REFU  L034811502612     NaN    NaN\n",
      "2  709901    1  14/02/2013   ABAN  Y021751958510     NaN    NaN\n",
      "3  550084    2  04/05/2008   AOTH  R095578985099     NaN    NaN\n",
      "4  710229    2  15/04/2002   REFU  Z095096287583     NaN    NaN\n",
      "5  733831    1  06/07/2013   WROM  Z005227500041     NaN    NaN\n",
      "6   69112    2  11/09/2010   ABAN  X089575916879     NaN    NaN\n",
      "7  853884    2  09/10/2004   WBRI  U096513817313     NaN    NaN\n",
      "8  634852    2  19/10/2006   WIRI  X019131453866     NaN    NaN\n",
      "9  512087    1  01/10/2003   MOTH  J091207487052     NaN    NaN\n",
      "       CHILD  SEX         DOB ETHNIC            UPN  MOTHER MC_DOB\n",
      "2665  199656    1  08/07/2009   WOTH  G006043737339     NaN    NaN\n",
      "2666  587124    1  14/10/2006   AOTH  X013739746473     NaN    NaN\n",
      "2667  558581    1  05/07/2001   MWBC  S048947751783     NaN    NaN\n",
      "2668  937984    2  08/05/2008   WROM  B072095547455     NaN    NaN\n",
      "2669  942735    2  27/10/2010   BCRB  V010957149459     NaN    NaN\n",
      "2670  152113    1  06/06/2003   WBRI  K096794376750     NaN    NaN\n",
      "2671  481370    2  12/02/2008   BAFR  C014150452081     NaN    NaN\n",
      "2672  791577    1  28/05/2011   WBRI  Q009369089812     NaN    NaN\n",
      "2673  238470    1  21/11/2013   AIND  P095222532769     NaN    NaN\n",
      "2674  437361    1  15/12/2012   WROM  G018001328504     NaN    NaN\n",
      "<class 'pandas.core.frame.DataFrame'>\n",
      "RangeIndex: 2675 entries, 0 to 2674\n",
      "Data columns (total 7 columns):\n",
      " #   Column  Non-Null Count  Dtype  \n",
      "---  ------  --------------  -----  \n",
      " 0   CHILD   2675 non-null   int64  \n",
      " 1   SEX     2675 non-null   int64  \n",
      " 2   DOB     2675 non-null   object \n",
      " 3   ETHNIC  2675 non-null   object \n",
      " 4   UPN     2675 non-null   object \n",
      " 5   MOTHER  1 non-null      float64\n",
      " 6   MC_DOB  1 non-null      object \n",
      "dtypes: float64(1), int64(2), object(4)\n",
      "memory usage: 146.4+ KB\n",
      "None\n"
     ]
    }
   ],
   "source": [
    "print(header_fake.head(10))\n",
    "print(header_fake.tail(10))\n",
    "\n",
    "print(header_fake.info())\n",
    "\n",
    "      \n"
   ]
  },
  {
   "cell_type": "code",
   "execution_count": null,
   "metadata": {},
   "outputs": [
    {
     "ename": "SyntaxError",
     "evalue": "unterminated string literal (detected at line 4) (3327307154.py, line 4)",
     "output_type": "error",
     "traceback": [
      "\u001b[0;36m  Cell \u001b[0;32mIn[63], line 4\u001b[0;36m\u001b[0m\n\u001b[0;31m    'col2':['A','B',C'],\u001b[0m\n\u001b[0m                     ^\u001b[0m\n\u001b[0;31mSyntaxError\u001b[0m\u001b[0;31m:\u001b[0m unterminated string literal (detected at line 4)\n"
     ]
    }
   ],
   "source": [
    "# dict of lists\n",
    "\n",
    "d_1 = {['col1':[1,2,3],\n",
    "'col2':['A','B',C'],\n",
    "'col3':['foo','bar','baz']}\n",
    "                \n",
    "df_1 = pd.DataFrame(d_1)\n",
    "\n",
    "print(df_1)\n",
    "\n",
    "# list of dicts\n",
    "\n"
   ]
  },
  {
   "cell_type": "code",
   "execution_count": null,
   "metadata": {},
   "outputs": [
    {
     "name": "stdout",
     "output_type": "stream",
     "text": [
      "                  Name Salary        Job Title\n",
      "0    Will Levack-Payne     10          Teacher\n",
      "1   Annie Levack-Payne      8     Head Teacher\n",
      "2    Andy Levack-Payne      7  Trainee Teacher\n",
      "3  Naiomi Levack-Payne     18     Sports coach\n",
      "4            Scout Dog      0              Dog\n",
      "<class 'pandas.core.frame.DataFrame'>\n",
      "RangeIndex: 5 entries, 0 to 4\n",
      "Data columns (total 3 columns):\n",
      " #   Column     Non-Null Count  Dtype \n",
      "---  ------     --------------  ----- \n",
      " 0   Name       5 non-null      object\n",
      " 1   Salary     5 non-null      object\n",
      " 2   Job Title  5 non-null      object\n",
      "dtypes: object(3)\n",
      "memory usage: 248.0+ bytes\n",
      "None\n",
      "                  Name Salary        Job Title\n",
      "0    Will Levack-Payne     10          Teacher\n",
      "1   Annie Levack-Payne      8     Head Teacher\n",
      "2    Andy Levack-Payne      7  Trainee Teacher\n",
      "3  Naiomi Levack-Payne     18     Sports coach\n",
      "4            Scout Dog      0              Dog\n",
      "0    10\n",
      "1     8\n",
      "2     7\n",
      "3    18\n",
      "4     0\n",
      "Name: Salary, dtype: object\n",
      "int64\n",
      " The mean salary is:[mean_salary].\n",
      " The sum salary is:[sum_salary].\n",
      " The max salary is:[max_salary].\n",
      " The min salary is:[min_salary].\n"
     ]
    }
   ],
   "source": [
    "staff = pd.DataFrame([\n",
    "    {'Name':'Will Levack-Payne',\n",
    "     'Salary':'10',\n",
    "     'Job Title':'Teacher'},\n",
    "     {'Name':'Annie Levack-Payne',\n",
    "     'Salary':'8',\n",
    "     'Job Title':'Head Teacher'},\n",
    "    {'Name':'Andy Levack-Payne',\n",
    "     'Salary':'7',\n",
    "     'Job Title':'Trainee Teacher'},\n",
    "     {'Name':'Naiomi Levack-Payne',\n",
    "     'Salary':'18',\n",
    "     'Job Title':'Sports coach'},\n",
    "     {'Name':'Scout Dog',\n",
    "     'Salary':'0',\n",
    "     'Job Title':'Dog'}\n",
    "])\n",
    "\n",
    "print(staff)\n",
    "\n",
    "print(staff.info())\n",
    "print(staff.head())\n",
    "print(staff['Salary'])\n",
    "\n",
    "staff['Salary'] = staff['Salary'].astype('int')\n",
    "print(staff['Salary'].dtypes)\n",
    "\n",
    "mean_salary = staff['Salary'].mean()\n",
    "sum_salary = staff['Salary'].sum()\n",
    "max_salary = staff['Salary'].max()\n",
    "min_salary = staff['Salary'].min()\n",
    "\n",
    "print(f' The mean salary is:[mean_salary].')\n",
    "print(f' The sum salary is:[sum_salary].')\n",
    "print(f' The max salary is:[max_salary].')\n",
    "print(f' The min salary is:[min_salary].')\n",
    "\n",
    "\n"
   ]
  },
  {
   "cell_type": "code",
   "execution_count": null,
   "metadata": {},
   "outputs": [],
   "source": []
  }
 ],
 "metadata": {
  "kernelspec": {
   "display_name": "Python 3",
   "language": "python",
   "name": "python3"
  },
  "language_info": {
   "codemirror_mode": {
    "name": "ipython",
    "version": 3
   },
   "file_extension": ".py",
   "mimetype": "text/x-python",
   "name": "python",
   "nbconvert_exporter": "python",
   "pygments_lexer": "ipython3",
   "version": "3.10.13"
  }
 },
 "nbformat": 4,
 "nbformat_minor": 2
}
